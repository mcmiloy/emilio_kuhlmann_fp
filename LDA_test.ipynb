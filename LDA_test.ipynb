{
 "cells": [
  {
   "cell_type": "code",
   "execution_count": 1,
   "id": "reduced-daisy",
   "metadata": {},
   "outputs": [],
   "source": [
    "from basic_nlp import BasicNLP"
   ]
  },
  {
   "cell_type": "code",
   "execution_count": 2,
   "id": "russian-davis",
   "metadata": {},
   "outputs": [
    {
     "name": "stdout",
     "output_type": "stream",
     "text": [
      "Loading corpus...      Complete. Elapsed time: 0.00\n",
      "Splitting documents... Complete. Elapsed time: 0.00\n",
      "Removing stopwords...  Complete. Elapsed time: 0.00\n",
      "Building bigrams...    Complete. Elapsed time: 0.01\n",
      "Lemmatizing text...    Complete. Elapsed time: 0.64\n"
     ]
    }
   ],
   "source": [
    "texts = [\"\"\"\n",
    "A MAN who had traveled in foreign lands boasted very much, on\n",
    "returning to his own country, of the many wonderful and heroic\n",
    "feats he had performed in the different places he had visited.\n",
    "Among other things, he said that when he was at Rhodes he had\n",
    "leaped to such a distance that no man of his day could leap\n",
    "anywhere near him as to that, there were in Rhodes many persons\n",
    "who saw him do it and whom he could call as witnesses.  One of\n",
    "the bystanders interrupted him, saying:  \"Now, my good man, if\n",
    "this be all true there is no need of witnesses.  Suppose this\n",
    "to be Rhodes, and leap for us.\"\n",
    "\n",
    "\"\"\",\n",
    "\"\"\"\n",
    "A MAN had an Ass, and a Maltese Lapdog, a very great beauty.  The\n",
    "Ass was left in a stable and had plenty of oats and hay to eat,\n",
    "just as any other Ass would.  The Lapdog knew many tricks and was\n",
    "a great favorite with his master, who often fondled him and\n",
    "seldom went out to dine without bringing him home some tidbit to\n",
    "eat.  The Ass, on the contrary, had much work to do in grinding\n",
    "the corn-mill and in carrying wood from the forest or burdens\n",
    "from the farm.  He often lamented his own hard fate and\n",
    "contrasted it with the luxury and idleness of the Lapdog, till at\n",
    "last one day he broke his cords and halter, and galloped into his\n",
    "master's house, kicking up his heels without measure, and\n",
    "frisking and fawning as well as he could.  He next tried to jump\n",
    "about his master as he had seen the Lapdog do, but he broke the\n",
    "table and smashed all the dishes upon it to atoms.  He then\n",
    "attempted to lick his master, and jumped upon his back.  The\n",
    "servants, hearing the strange hubbub and perceiving the danger of\n",
    "their master, quickly relieved him, and drove out the Ass to his\n",
    "stable with kicks and clubs and cuffs.  The Ass, as he returned\n",
    "to his stall beaten nearly to death, thus lamented:  \"I have\n",
    "brought it all on myself! Why could I not have been contented to\n",
    "labor with my companions, and not wish to be idle all the day\n",
    "like that useless little Lapdog!\"\n",
    "\"\"\",\n",
    "\"\"\"\n",
    "A CAT caught a Cock, and pondered how he might find a reasonable\n",
    "excuse for eating him.  He accused him of being a nuisance to men\n",
    "by crowing in the nighttime and not permitting them to sleep.\n",
    "The Cock defended himself by saying that he did this for the\n",
    "benefit of men, that they might rise in time for their labors.\n",
    "The Cat replied, \"Although you abound in specious apologies, I\n",
    "shall not remain supperless\"; and he made a meal of him.\n",
    "\n",
    "\"\"\"\n",
    "]\n",
    "titles = ['The Boasting Traveler',\n",
    "          'The Ass and the Lapdog ',\n",
    "          'The Cat and the Cock ']\n",
    "\n",
    "nlp = BasicNLP(texts, titles)"
   ]
  },
  {
   "cell_type": "code",
   "execution_count": 3,
   "outputs": [
    {
     "name": "stdout",
     "output_type": "stream",
     "text": [
      "Calculating 5-topic model\n",
      "Calculating 8-topic model\n",
      "Calculating 11-topic model\n",
      "Calculating 14-topic model\n",
      "Calculating 17-topic model\n",
      "Calculating 20-topic model\n",
      "Num Topics = 5  has Coherence Value of 0.98352\n",
      "Num Topics = 8  has Coherence Value of 0.98352\n",
      "Num Topics = 11  has Coherence Value of 0.98352\n",
      "Num Topics = 14  has Coherence Value of 0.98352\n",
      "Num Topics = 17  has Coherence Value of 0.98352\n",
      "Num Topics = 20  has Coherence Value of 0.98352\n"
     ]
    },
    {
     "data": {
      "text/plain": "<Figure size 432x288 with 1 Axes>",
      "image/png": "[encoded data removed]"
     },
     "metadata": {
      "needs_background": "light"
     },
     "output_type": "display_data"
    }
   ],
   "source": [
    "nlp.compute_coherence(start=5, stop=20, step=3)"
   ],
   "metadata": {
    "collapsed": false,
    "pycharm": {
     "name": "#%%\n"
    }
   }
  },
  {
   "cell_type": "code",
   "execution_count": 6,
   "outputs": [
    {
     "name": "stdout",
     "output_type": "stream",
     "text": [
      "Topic 0: ['relieve', 'servant', 'next', 'oats', 'often', 'plenty', 'quickly', 'mill', 'seldom', 'stall']\n",
      "Topic 1: ['rhode', 'leap', 'man', 'witness', 'say', 'many', 'could', 'call', 'travel', 'true']\n",
      "Topic 5: ['may', 'cock', 'man', 'remain', 'sleep', 'defend', 'eat', 'permit', 'reasonable', 'ponder']\n",
      "Topic 6: ['relieve', 'servant', 'next', 'oats', 'often', 'plenty', 'quickly', 'mill', 'seldom', 'stall']\n",
      "Topic 7: ['ass', 'great', 'lapdog', 'stable', 'master', 'could', 'kick', 'eat', 'bring', 'jump']\n",
      "Topic 9: ['relieve', 'servant', 'next', 'oats', 'often', 'plenty', 'quickly', 'mill', 'seldom', 'stall']\n"
     ]
    }
   ],
   "source": [
    "nlp.get_topic_vocabulary(topics='all', num_words=10)"
   ],
   "metadata": {
    "collapsed": false,
    "pycharm": {
     "name": "#%%\n"
    }
   }
  },
  {
   "cell_type": "code",
   "execution_count": 7,
   "outputs": [
    {
     "ename": "AttributeError",
     "evalue": "'BasicNLP' object has no attribute 'topic_sents_keywords'",
     "output_type": "error",
     "traceback": [
      "\u001B[1;31m---------------------------------------------------------------------------\u001B[0m",
      "\u001B[1;31mAttributeError\u001B[0m                            Traceback (most recent call last)",
      "\u001B[1;32m~\\AppData\\Local\\Temp/ipykernel_20224/2678572573.py\u001B[0m in \u001B[0;36m<module>\u001B[1;34m\u001B[0m\n\u001B[1;32m----> 1\u001B[1;33m \u001B[0mnlp\u001B[0m\u001B[1;33m.\u001B[0m\u001B[0mget_representative_documents\u001B[0m\u001B[1;33m(\u001B[0m\u001B[0mtopics\u001B[0m\u001B[1;33m=\u001B[0m\u001B[1;34m'all'\u001B[0m\u001B[1;33m,\u001B[0m \u001B[0mnum_docs\u001B[0m\u001B[1;33m=\u001B[0m\u001B[1;36m1\u001B[0m\u001B[1;33m)\u001B[0m\u001B[1;33m\u001B[0m\u001B[1;33m\u001B[0m\u001B[0m\n\u001B[0m",
      "\u001B[1;32mC:\\code\\harry_potter_nlp\\basic_nlp.py\u001B[0m in \u001B[0;36mget_representative_documents\u001B[1;34m(self, topics, num_docs)\u001B[0m\n\u001B[0;32m    186\u001B[0m             \u001B[0mtopics\u001B[0m \u001B[1;33m=\u001B[0m \u001B[1;33m[\u001B[0m\u001B[0mtopics\u001B[0m\u001B[1;33m]\u001B[0m\u001B[1;33m\u001B[0m\u001B[1;33m\u001B[0m\u001B[0m\n\u001B[0;32m    187\u001B[0m \u001B[1;33m\u001B[0m\u001B[0m\n\u001B[1;32m--> 188\u001B[1;33m         \u001B[0mdf2\u001B[0m \u001B[1;33m=\u001B[0m \u001B[0mself\u001B[0m\u001B[1;33m.\u001B[0m\u001B[0m_make_df\u001B[0m\u001B[1;33m(\u001B[0m\u001B[0mnum_docs\u001B[0m\u001B[1;33m)\u001B[0m\u001B[1;33m\u001B[0m\u001B[1;33m\u001B[0m\u001B[0m\n\u001B[0m\u001B[0;32m    189\u001B[0m \u001B[1;33m\u001B[0m\u001B[0m\n\u001B[0;32m    190\u001B[0m         \u001B[1;32mfor\u001B[0m \u001B[0midx\u001B[0m\u001B[1;33m,\u001B[0m \u001B[0mrow\u001B[0m \u001B[1;32min\u001B[0m \u001B[0mdf2\u001B[0m\u001B[1;33m.\u001B[0m\u001B[0miterrows\u001B[0m\u001B[1;33m(\u001B[0m\u001B[1;33m)\u001B[0m\u001B[1;33m:\u001B[0m\u001B[1;33m\u001B[0m\u001B[1;33m\u001B[0m\u001B[0m\n",
      "\u001B[1;32mC:\\code\\harry_potter_nlp\\basic_nlp.py\u001B[0m in \u001B[0;36m_make_df\u001B[1;34m(self, num)\u001B[0m\n\u001B[0;32m    249\u001B[0m \u001B[1;33m\u001B[0m\u001B[0m\n\u001B[0;32m    250\u001B[0m         '''\n\u001B[1;32m--> 251\u001B[1;33m         \u001B[0mdf\u001B[0m \u001B[1;33m=\u001B[0m \u001B[0mself\u001B[0m\u001B[1;33m.\u001B[0m\u001B[0mtopic_sents_keywords\u001B[0m\u001B[1;33m.\u001B[0m\u001B[0mgroupby\u001B[0m\u001B[1;33m(\u001B[0m\u001B[1;34m'dominant_topic'\u001B[0m\u001B[1;33m)\u001B[0m\u001B[1;33m\u001B[0m\u001B[1;33m\u001B[0m\u001B[0m\n\u001B[0m\u001B[0;32m    252\u001B[0m         \u001B[0mdf2\u001B[0m \u001B[1;33m=\u001B[0m \u001B[0mpd\u001B[0m\u001B[1;33m.\u001B[0m\u001B[0mDataFrame\u001B[0m\u001B[1;33m(\u001B[0m\u001B[1;33m)\u001B[0m\u001B[1;33m\u001B[0m\u001B[1;33m\u001B[0m\u001B[0m\n\u001B[0;32m    253\u001B[0m \u001B[1;33m\u001B[0m\u001B[0m\n",
      "\u001B[1;31mAttributeError\u001B[0m: 'BasicNLP' object has no attribute 'topic_sents_keywords'"
     ]
    }
   ],
   "source": [],
   "metadata": {
    "collapsed": false,
    "pycharm": {
     "name": "#%%\n"
    }
   }
  }
 ],
 "metadata": {
  "kernelspec": {
   "display_name": "nlp_fp",
   "language": "python",
   "name": "nlp_fp"
  },
  "language_info": {
   "codemirror_mode": {
    "name": "ipython",
    "version": 3
   },
   "file_extension": ".py",
   "mimetype": "text/x-python",
   "name": "python",
   "nbconvert_exporter": "python",
   "pygments_lexer": "ipython3",
   "version": "3.8.11"
  }
 },
 "nbformat": 4,
 "nbformat_minor": 5
}